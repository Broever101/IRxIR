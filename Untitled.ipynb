{
 "cells": [
  {
   "cell_type": "code",
   "execution_count": 1,
   "metadata": {},
   "outputs": [],
   "source": [
    "import json \n",
    "\n",
    "with open(\"kjv.json\") as f:\n",
    "    kjv = json.load(f)\n",
    "\n",
    "chapters = list(kjv['KingJamesVersion'].keys())"
   ]
  },
  {
   "cell_type": "code",
   "execution_count": 2,
   "metadata": {},
   "outputs": [],
   "source": [
    "def make_corpus(book, chapters):\n",
    "    corpus = []\n",
    "    for chapter in chapters:\n",
    "        text = book[chapter][1]\n",
    "        corpus.append('\\n'.join(text[1:]))\n",
    "    return corpus"
   ]
  },
  {
   "cell_type": "code",
   "execution_count": 3,
   "metadata": {},
   "outputs": [
    {
     "name": "stdout",
     "output_type": "stream",
     "text": [
      "Adam, Sheth, Enosh,\n",
      "Kenan, Mahalaleel, Jered,\n",
      "Henoch, Methuselah, Lamech,\n",
      "Noah, Shem, Ham, and Japheth.\n",
      "The sons of Japheth; Gomer, and Magog, and Madai, and Javan, and Tubal, and Meshech, and Tiras.\n",
      "And the sons of Gomer; Ashchenaz, and Riphath, and Togarmah.\n",
      "And the sons of Javan; Elishah, and Tarshish, Kittim, and Dodanim.\n",
      "The sons of Ham; Cush, and Mizraim, Put, and Canaan.\n",
      "And the sons of Cush; Seba, and Havilah, and Sabta, and Raamah, and Sabtecha. And the sons of Raamah; Sheba, and Dedan.\n",
      "And Cush begat Nimrod: he began to be mighty upon the earth.\n",
      "And Mizraim begat Ludim, and Anamim, and Lehabim, and Naphtuhim,\n",
      "And Pathrusim, and Casluhim, (of whom came the Philistines,) and Caphthorim.\n",
      "And Canaan begat Zidon his firstborn, and Heth,\n",
      "The Jebusite also, and the Amorite, and the Girgashite,\n",
      "And the Hivite, and the Arkite, and the Sinite,\n",
      "And the Arvadite, and the Zemarite, and the Hamathite.\n",
      "The sons of Shem; Elam, and Asshur, and Arphaxad, and Lud, and Aram, and Uz, and Hul, and Gether, and Meshech.\n",
      "And Arphaxad begat Shelah, and Shelah begat Eber.\n",
      "And unto Eber were born two sons: the name of the one <i>was</i> Peleg; because in his days the earth was divided: and his brother's name <i>was</i> Joktan.\n",
      "And Joktan begat Almodad, and Sheleph, and Hazarmaveth, and Jerah,\n",
      "Hadoram also, and Uzal, and Diklah,\n",
      "And Ebal, and Abimael, and Sheba,\n",
      "And Ophir, and Havilah, and Jobab. All these <i>were</i> the sons of Joktan.\n",
      "Shem, Arphaxad, Shelah,\n",
      "Eber, Peleg, Reu,\n",
      "Serug, Nahor, Terah,\n",
      "Abram; the same <i>is</i> Abraham.\n",
      "The sons of Abraham; Isaac, and Ishmael.\n",
      "These <i>are</i> their generations: The firstborn of Ishmael, Nebaioth; then Kedar, and Adbeel, and Mibsam,\n",
      "Mishma, and Dumah, Massa, Hadad, and Tema,\n",
      "Jetur, Naphish, and Kedemah. These are the sons of Ishmael.\n",
      "Now the sons of Keturah, Abraham's concubine: she bare Zimran, and Jokshan, and Medan, and Midian, and Ishbak, and Shuah. And the sons of Jokshan; Sheba, and Dedan.\n",
      "And the sons of Midian; Ephah, and Epher, and Henoch, and Abida, and Eldaah. All these <i>are</i> the sons of Keturah.\n",
      "And Abraham begat Isaac. The sons of Isaac; Esau and Israel.\n",
      "The sons of Esau; Eliphaz, Reuel, and Jeush, and Jaalam, and Korah.\n",
      "The sons of Eliphaz; Teman, and Omar, Zephi, and Gatam, Kenaz, and Timna, and Amalek.\n",
      "The sons of Reuel; Nahath, Zerah, Shammah, and Mizzah.\n",
      "And the sons of Seir; Lotan, and Shobal, and Zibeon, and Anah, and Dishon, and Ezer, and Dishan.\n",
      "And the sons of Lotan; Hori, and Homam: and Timna <i>was</i> Lotan's sister.\n",
      "The sons of Shobal; Alian, and Manahath, and Ebal, Shephi, and Onam. And the sons of Zibeon; Aiah, and Anah.\n",
      "The sons of Anah; Dishon. And the sons of Dishon; Amram, and Eshban, and Ithran, and Cheran.\n",
      "The sons of Ezer; Bilhan, and Zavan, <i>and</i> Jakan. The sons of Dishan; Uz, and Aran.\n",
      "Now these <i>are</i> the kings that reigned in the land of Edom before <i>any</i> king reigned over the children of Israel; Bela the son of Beor: and the name of his city <i>was</i> Dinhabah.\n",
      "And when Bela was dead, Jobab the son of Zerah of Bozrah reigned in his stead.\n",
      "And when Jobab was dead, Husham of the land of the Temanites reigned in his stead.\n",
      "And when Husham was dead, Hadad the son of Bedad, which smote Midian in the field of Moab, reigned in his stead: and the name of his city <i>was</i> Avith.\n",
      "And when Hadad was dead, Samlah of Masrekah reigned in his stead.\n",
      "And when Samlah was dead, Shaul of Rehoboth by the river reigned in his stead.\n",
      "And when Shaul was dead, Baalhanan the son of Achbor reigned in his stead.\n",
      "And when Baalhanan was dead, Hadad reigned in his stead: and the name of his city <i>was</i> Pai; and his wife's name <i>was</i> Mehetabel, the daughter of Matred, the daughter of Mezahab.\n",
      "Hadad died also. And the dukes of Edom were; duke Timnah, duke Aliah, duke Jetheth,\n",
      "Duke Aholibamah, duke Elah, duke Pinon,\n",
      "Duke Kenaz, duke Teman, duke Mibzar,\n",
      "Duke Magdiel, duke Iram. These <i>are</i> the dukes of Edom.\n"
     ]
    }
   ],
   "source": [
    "print(make_corpus(kjv['KingJamesVersion'], chapters[:1])[0])"
   ]
  },
  {
   "cell_type": "code",
   "execution_count": 4,
   "metadata": {},
   "outputs": [],
   "source": [
    "from sklearn.feature_extraction.text import TfidfVectorizer\n",
    "import pandas as pd\n",
    "import numpy as np\n",
    "\n",
    "vectorizer = TfidfVectorizer()\n",
    "\n",
    "class Documents:\n",
    "    def __init__(self, corpus):\n",
    "        \n",
    "        #list of chapters\n",
    "        self.corpus = corpus\n",
    "        \n",
    "        #self.vectorizer = vectorizer\n",
    "        \n",
    "    #def vectorize(self):\n",
    "    #    X = self.vectorizer.fit_transform(self.corpus)\n",
    "    #    X = X.T.toarray()\n",
    "    #    return X"
   ]
  },
  {
   "cell_type": "code",
   "execution_count": 5,
   "metadata": {},
   "outputs": [],
   "source": [
    "corpus = make_corpus(kjv['KingJamesVersion'], chapters)\n",
    "#doc = Documents(vectorizer, corpus)\n",
    "#X = doc.vectorize()\n",
    "#df = pd.DataFrame(X, index = doc.vectorizer.get_feature_names())"
   ]
  },
  {
   "cell_type": "code",
   "execution_count": 6,
   "metadata": {},
   "outputs": [],
   "source": [
    "class Query:\n",
    "    def __init__(self, text):\n",
    "        \n",
    "        #plain text\n",
    "        self.text = text\n",
    "        \n",
    "        #self.vectorizer = vectorizer\n",
    "        \n",
    "    #def get_query_vec(self, docs):\n",
    "    #    q = [self.query]\n",
    "    #    q_vec = self.vectorizer.transform(q).toarray().reshape(docs.shape[0], )\n",
    "    #    return q_vec"
   ]
  },
  {
   "cell_type": "code",
   "execution_count": 23,
   "metadata": {},
   "outputs": [],
   "source": [
    "class InformationRetrieval:\n",
    "    def __init__(self, docs):\n",
    "        self.documents = docs\n",
    "        self.vectorizer = TfidfVectorizer()\n",
    "        self.inverted_doc = self.corpus_vectorizer()\n",
    "        self.vocab_len = self.inverted_doc.shape[0]\n",
    "        self.doc_len = len(self.documents.corpus)\n",
    "        \n",
    "    def corpus_vectorizer(self):\n",
    "        X = self.vectorizer.fit_transform(self.documents.corpus)\n",
    "        X = X.T.toarray()\n",
    "        df = pd.DataFrame(X, index = self.vectorizer.get_feature_names())\n",
    "        return df\n",
    "    \n",
    "    def query_vectorizer(self, query):\n",
    "        q = [query.text]\n",
    "        q_vec = self.vectorizer.transform(q).toarray().reshape(self.vocab_len,)\n",
    "        return q_vec\n",
    "    \n",
    "    def retrieve(self, query):\n",
    "        print(f\"Vocab len {self.vocab_len}\")\n",
    "        q_vec = self.query_vectorizer(query)\n",
    "        \n",
    "        sim = {}\n",
    "        for i in range(self.doc_len):\n",
    "            sim[i] = np.dot(self.inverted_doc.loc[:, i], q_vec) \\\n",
    "                        / np.linalg.norm(self.inverted_doc.loc[:, i]) * np.linalg.norm(q_vec)\n",
    "        \n",
    "        sim_sorted = sorted(sim.items(), key = lambda x: x[1], reverse = True)\n",
    "        \n",
    "        candidates = []\n",
    "        for i, vals in enumerate(sim_sorted):\n",
    "            k, v = vals\n",
    "            if v != 0.0:\n",
    "                print(f'Similarity: {v}')\n",
    "                print(f'With Document: {k}')\n",
    "                candidates.append(self.documents.corpus[k])\n",
    "            if i > 5:\n",
    "                break\n",
    "        return candidates"
   ]
  },
  {
   "cell_type": "code",
   "execution_count": 14,
   "metadata": {},
   "outputs": [
    {
     "name": "stdout",
     "output_type": "stream",
     "text": [
      "Vocab len 3467\n",
      "Similarity: 0.3386962470885654\n",
      "With Document: 0\n",
      "Similarity: 0.20532031598657408\n",
      "With Document: 38\n",
      "Similarity: 0.19277463071004655\n",
      "With Document: 33\n",
      "Similarity: 0.1908007279529765\n",
      "With Document: 23\n",
      "Similarity: 0.18919385320046783\n",
      "With Document: 1\n",
      "Similarity: 0.1881514437567516\n",
      "With Document: 4\n",
      "Similarity: 0.18561207127666626\n",
      "With Document: 50\n"
     ]
    },
    {
     "data": {
      "text/plain": [
       "\"Adam, Sheth, Enosh,\\nKenan, Mahalaleel, Jered,\\nHenoch, Methuselah, Lamech,\\nNoah, Shem, Ham, and Japheth.\\nThe sons of Japheth; Gomer, and Magog, and Madai, and Javan, and Tubal, and Meshech, and Tiras.\\nAnd the sons of Gomer; Ashchenaz, and Riphath, and Togarmah.\\nAnd the sons of Javan; Elishah, and Tarshish, Kittim, and Dodanim.\\nThe sons of Ham; Cush, and Mizraim, Put, and Canaan.\\nAnd the sons of Cush; Seba, and Havilah, and Sabta, and Raamah, and Sabtecha. And the sons of Raamah; Sheba, and Dedan.\\nAnd Cush begat Nimrod: he began to be mighty upon the earth.\\nAnd Mizraim begat Ludim, and Anamim, and Lehabim, and Naphtuhim,\\nAnd Pathrusim, and Casluhim, (of whom came the Philistines,) and Caphthorim.\\nAnd Canaan begat Zidon his firstborn, and Heth,\\nThe Jebusite also, and the Amorite, and the Girgashite,\\nAnd the Hivite, and the Arkite, and the Sinite,\\nAnd the Arvadite, and the Zemarite, and the Hamathite.\\nThe sons of Shem; Elam, and Asshur, and Arphaxad, and Lud, and Aram, and Uz, and Hul, and Gether, and Meshech.\\nAnd Arphaxad begat Shelah, and Shelah begat Eber.\\nAnd unto Eber were born two sons: the name of the one <i>was</i> Peleg; because in his days the earth was divided: and his brother's name <i>was</i> Joktan.\\nAnd Joktan begat Almodad, and Sheleph, and Hazarmaveth, and Jerah,\\nHadoram also, and Uzal, and Diklah,\\nAnd Ebal, and Abimael, and Sheba,\\nAnd Ophir, and Havilah, and Jobab. All these <i>were</i> the sons of Joktan.\\nShem, Arphaxad, Shelah,\\nEber, Peleg, Reu,\\nSerug, Nahor, Terah,\\nAbram; the same <i>is</i> Abraham.\\nThe sons of Abraham; Isaac, and Ishmael.\\nThese <i>are</i> their generations: The firstborn of Ishmael, Nebaioth; then Kedar, and Adbeel, and Mibsam,\\nMishma, and Dumah, Massa, Hadad, and Tema,\\nJetur, Naphish, and Kedemah. These are the sons of Ishmael.\\nNow the sons of Keturah, Abraham's concubine: she bare Zimran, and Jokshan, and Medan, and Midian, and Ishbak, and Shuah. And the sons of Jokshan; Sheba, and Dedan.\\nAnd the sons of Midian; Ephah, and Epher, and Henoch, and Abida, and Eldaah. All these <i>are</i> the sons of Keturah.\\nAnd Abraham begat Isaac. The sons of Isaac; Esau and Israel.\\nThe sons of Esau; Eliphaz, Reuel, and Jeush, and Jaalam, and Korah.\\nThe sons of Eliphaz; Teman, and Omar, Zephi, and Gatam, Kenaz, and Timna, and Amalek.\\nThe sons of Reuel; Nahath, Zerah, Shammah, and Mizzah.\\nAnd the sons of Seir; Lotan, and Shobal, and Zibeon, and Anah, and Dishon, and Ezer, and Dishan.\\nAnd the sons of Lotan; Hori, and Homam: and Timna <i>was</i> Lotan's sister.\\nThe sons of Shobal; Alian, and Manahath, and Ebal, Shephi, and Onam. And the sons of Zibeon; Aiah, and Anah.\\nThe sons of Anah; Dishon. And the sons of Dishon; Amram, and Eshban, and Ithran, and Cheran.\\nThe sons of Ezer; Bilhan, and Zavan, <i>and</i> Jakan. The sons of Dishan; Uz, and Aran.\\nNow these <i>are</i> the kings that reigned in the land of Edom before <i>any</i> king reigned over the children of Israel; Bela the son of Beor: and the name of his city <i>was</i> Dinhabah.\\nAnd when Bela was dead, Jobab the son of Zerah of Bozrah reigned in his stead.\\nAnd when Jobab was dead, Husham of the land of the Temanites reigned in his stead.\\nAnd when Husham was dead, Hadad the son of Bedad, which smote Midian in the field of Moab, reigned in his stead: and the name of his city <i>was</i> Avith.\\nAnd when Hadad was dead, Samlah of Masrekah reigned in his stead.\\nAnd when Samlah was dead, Shaul of Rehoboth by the river reigned in his stead.\\nAnd when Shaul was dead, Baalhanan the son of Achbor reigned in his stead.\\nAnd when Baalhanan was dead, Hadad reigned in his stead: and the name of his city <i>was</i> Pai; and his wife's name <i>was</i> Mehetabel, the daughter of Matred, the daughter of Mezahab.\\nHadad died also. And the dukes of Edom were; duke Timnah, duke Aliah, duke Jetheth,\\nDuke Aholibamah, duke Elah, duke Pinon,\\nDuke Kenaz, duke Teman, duke Mibzar,\\nDuke Magdiel, duke Iram. These <i>are</i> the dukes of Edom.\""
      ]
     },
     "execution_count": 14,
     "metadata": {},
     "output_type": "execute_result"
    }
   ],
   "source": [
    "docs = Documents(corpus)\n",
    "query = Query(\"Who are the sons of Abraham\")\n",
    "ir = InformationRetrieval(docs)\n",
    "candidates = ir.retrieve(query)\n",
    "candidates[0]"
   ]
  },
  {
   "cell_type": "code",
   "execution_count": 52,
   "metadata": {},
   "outputs": [],
   "source": [
    "from transformers import T5Tokenizer, MT5Model"
   ]
  },
  {
   "cell_type": "code",
   "execution_count": 54,
   "metadata": {},
   "outputs": [
    {
     "data": {
      "text/plain": [
       "NoneType"
      ]
     },
     "execution_count": 54,
     "metadata": {},
     "output_type": "execute_result"
    }
   ],
   "source": [
    "tokenizer = T5Tokenizer.from_pretrained(\"google/mt5-small\")\n",
    "type(tokenizer)"
   ]
  },
  {
   "cell_type": "code",
   "execution_count": 46,
   "metadata": {
    "scrolled": true
   },
   "outputs": [
    {
     "data": {
      "text/plain": [
       "NoneType"
      ]
     },
     "execution_count": 46,
     "metadata": {},
     "output_type": "execute_result"
    }
   ],
   "source": [
    "type(AlbertTokenizer.from_pretrained('albert-xlarge-v2'))"
   ]
  },
  {
   "cell_type": "code",
   "execution_count": 32,
   "metadata": {},
   "outputs": [
    {
     "data": {
      "text/plain": [
       "NoneType"
      ]
     },
     "execution_count": 32,
     "metadata": {},
     "output_type": "execute_result"
    }
   ],
   "source": [
    "type(tokenizer)"
   ]
  },
  {
   "cell_type": "code",
   "execution_count": null,
   "metadata": {},
   "outputs": [],
   "source": []
  }
 ],
 "metadata": {
  "kernelspec": {
   "display_name": "Python 3",
   "language": "python",
   "name": "python3"
  },
  "language_info": {
   "codemirror_mode": {
    "name": "ipython",
    "version": 3
   },
   "file_extension": ".py",
   "mimetype": "text/x-python",
   "name": "python",
   "nbconvert_exporter": "python",
   "pygments_lexer": "ipython3",
   "version": "3.6.10"
  }
 },
 "nbformat": 4,
 "nbformat_minor": 4
}
